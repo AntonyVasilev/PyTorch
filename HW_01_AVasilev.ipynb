{
 "cells": [
  {
   "cell_type": "code",
   "execution_count": 18,
   "metadata": {},
   "outputs": [],
   "source": [
    "import torch\n",
    "import numpy as np"
   ]
  },
  {
   "cell_type": "code",
   "execution_count": 56,
   "metadata": {},
   "outputs": [
    {
     "data": {
      "text/plain": [
       "tensor([[[ 1.2704,  0.6585,  0.4888,  0.3403,  0.3507],\n",
       "         [ 0.0646, -1.2628,  0.8486, -0.7812, -0.5085],\n",
       "         [-1.8098,  0.4867,  0.2217, -0.5615, -0.6773],\n",
       "         [-2.3121, -1.9064, -1.3019,  0.7841, -0.9451]],\n",
       "\n",
       "        [[-0.4101, -0.8040, -0.0609, -0.9398,  1.8925],\n",
       "         [-1.9541, -0.1773,  1.6474,  0.0321, -0.9665],\n",
       "         [-0.9208,  0.2201, -0.4511,  0.6334,  0.4777],\n",
       "         [ 0.0681,  0.4563,  0.1469,  1.4286,  0.8917]],\n",
       "\n",
       "        [[ 0.3066, -0.3253,  0.1033,  0.2859,  1.0316],\n",
       "         [-0.5530, -2.5768, -0.0754, -1.7780, -0.2304],\n",
       "         [-0.5671,  0.9737, -1.2449, -1.3834,  1.0132],\n",
       "         [ 0.8108, -0.7414,  0.9593,  0.4491,  0.3187]]])"
      ]
     },
     "execution_count": 56,
     "metadata": {},
     "output_type": "execute_result"
    }
   ],
   "source": [
    "# Создайте случайный FloatTensor размера 3x4x5\n",
    "tensor_1 = torch.randn([3, 4, 5], dtype=torch.float)\n",
    "tensor_1"
   ]
  },
  {
   "cell_type": "code",
   "execution_count": 57,
   "metadata": {},
   "outputs": [
    {
     "data": {
      "text/plain": [
       "torch.Size([3, 4, 5])"
      ]
     },
     "execution_count": 57,
     "metadata": {},
     "output_type": "execute_result"
    }
   ],
   "source": [
    "# Выведите его форму (shape)\n",
    "tensor_1.shape"
   ]
  },
  {
   "cell_type": "code",
   "execution_count": 58,
   "metadata": {},
   "outputs": [
    {
     "data": {
      "text/plain": [
       "tensor([[ 1.2704,  0.6585,  0.4888,  0.3403,  0.3507,  0.0646, -1.2628,  0.8486,\n",
       "         -0.7812, -0.5085],\n",
       "        [-1.8098,  0.4867,  0.2217, -0.5615, -0.6773, -2.3121, -1.9064, -1.3019,\n",
       "          0.7841, -0.9451],\n",
       "        [-0.4101, -0.8040, -0.0609, -0.9398,  1.8925, -1.9541, -0.1773,  1.6474,\n",
       "          0.0321, -0.9665],\n",
       "        [-0.9208,  0.2201, -0.4511,  0.6334,  0.4777,  0.0681,  0.4563,  0.1469,\n",
       "          1.4286,  0.8917],\n",
       "        [ 0.3066, -0.3253,  0.1033,  0.2859,  1.0316, -0.5530, -2.5768, -0.0754,\n",
       "         -1.7780, -0.2304],\n",
       "        [-0.5671,  0.9737, -1.2449, -1.3834,  1.0132,  0.8108, -0.7414,  0.9593,\n",
       "          0.4491,  0.3187]])"
      ]
     },
     "execution_count": 58,
     "metadata": {},
     "output_type": "execute_result"
    }
   ],
   "source": [
    "# Приведите его к форме 6 X 10\n",
    "tensor_2 = tensor_1.view([6, 10])\n",
    "tensor_2"
   ]
  },
  {
   "cell_type": "code",
   "execution_count": 59,
   "metadata": {},
   "outputs": [
    {
     "data": {
      "text/plain": [
       "tensor([[[  1.2704,   2.6339,   0.9777,   0.6806,   0.3507],\n",
       "         [  0.0646,  -5.0513,   1.6971,  -1.5624,  -0.5085],\n",
       "         [ -1.8098,   1.9467,   0.4434,  -1.1230,  -0.6773],\n",
       "         [ -2.3121,  -7.6257,  -2.6038,   1.5682,  -0.9451]],\n",
       "\n",
       "        [[ -0.4101,  -3.2161,  -0.1218,  -1.8796,   1.8925],\n",
       "         [ -1.9541,  -0.7093,   3.2947,   0.0641,  -0.9665],\n",
       "         [ -0.9208,   0.8804,  -0.9021,   1.2668,   0.4777],\n",
       "         [  0.0681,   1.8251,   0.2937,   2.8571,   0.8917]],\n",
       "\n",
       "        [[  0.3066,  -1.3012,   0.2066,   0.5717,   1.0316],\n",
       "         [ -0.5530, -10.3072,  -0.1508,  -3.5561,  -0.2304],\n",
       "         [ -0.5671,   3.8947,  -2.4897,  -2.7668,   1.0132],\n",
       "         [  0.8108,  -2.9657,   1.9186,   0.8982,   0.3187]]])"
      ]
     },
     "execution_count": 59,
     "metadata": {},
     "output_type": "execute_result"
    }
   ],
   "source": [
    "# Умножьте его на вектор [1, 4, 2, 2, 1] поэлементно\n",
    "tensor_1 * torch.IntTensor([1, 4, 2, 2, 1])"
   ]
  },
  {
   "cell_type": "code",
   "execution_count": 60,
   "metadata": {},
   "outputs": [
    {
     "data": {
      "text/plain": [
       "tensor([[ 5.7131, -1.2777,  1.2257, -2.8789,  5.3454,  0.4865],\n",
       "        [-1.2777, 16.5187,  3.2331,  0.0532,  3.5634, -0.3444],\n",
       "        [ 1.2257,  3.2331, 12.7820, -0.2513,  3.3923,  2.5770],\n",
       "        [-2.8789,  0.0532, -0.2513,  4.7995, -3.6967,  1.6894],\n",
       "        [ 5.3454,  3.5634,  3.3923, -3.6967, 11.5223,  0.5484],\n",
       "        [ 0.4865, -0.3444,  2.5770,  1.6894,  0.5484,  8.1906]])"
      ]
     },
     "execution_count": 60,
     "metadata": {},
     "output_type": "execute_result"
    }
   ],
   "source": [
    "# Умножьте тензор матрично на себя, чтобы результат был размерности 6x6\n",
    "torch.matmul(tensor_2, torch.t(tensor_2))"
   ]
  },
  {
   "cell_type": "code",
   "execution_count": 61,
   "metadata": {},
   "outputs": [],
   "source": [
    "# Посчитайте производную функции y = x**3 + z - 75t в точке (1, 0.5, 2)\n",
    "from torch.autograd import Variable"
   ]
  },
  {
   "cell_type": "code",
   "execution_count": 77,
   "metadata": {},
   "outputs": [],
   "source": [
    "x = Variable(torch.ones(3), requires_grad=True)\n",
    "z = Variable(torch.ones(3), requires_grad=True)\n",
    "t = Variable(torch.ones(3), requires_grad=True)"
   ]
  },
  {
   "cell_type": "code",
   "execution_count": 78,
   "metadata": {},
   "outputs": [
    {
     "data": {
      "text/plain": [
       "tensor([-73., -73., -73.], grad_fn=<SubBackward0>)"
      ]
     },
     "execution_count": 78,
     "metadata": {},
     "output_type": "execute_result"
    }
   ],
   "source": [
    "y = x**3 + z - 75*t\n",
    "y"
   ]
  },
  {
   "cell_type": "code",
   "execution_count": 79,
   "metadata": {},
   "outputs": [],
   "source": [
    "y.backward(torch.tensor([1, 0.5, 2]))"
   ]
  },
  {
   "cell_type": "code",
   "execution_count": 84,
   "metadata": {},
   "outputs": [
    {
     "name": "stdout",
     "output_type": "stream",
     "text": [
      "Gradient by X: tensor([3.0000, 1.5000, 6.0000])\n",
      "Gradient by Z: tensor([1.0000, 0.5000, 2.0000])\n",
      "Gradient by T: tensor([ -75.0000,  -37.5000, -150.0000])\n"
     ]
    }
   ],
   "source": [
    "print(f'Gradient by X: {x.grad}')\n",
    "print(f'Gradient by Z: {z.grad}')\n",
    "print(f'Gradient by T: {t.grad}')"
   ]
  },
  {
   "cell_type": "code",
   "execution_count": 82,
   "metadata": {},
   "outputs": [
    {
     "data": {
      "text/plain": [
       "tensor([[1., 1., 1., 1., 1., 1.],\n",
       "        [1., 1., 1., 1., 1., 1.],\n",
       "        [1., 1., 1., 1., 1., 1.],\n",
       "        [1., 1., 1., 1., 1., 1.],\n",
       "        [1., 1., 1., 1., 1., 1.]])"
      ]
     },
     "execution_count": 82,
     "metadata": {},
     "output_type": "execute_result"
    }
   ],
   "source": [
    "# Создайте единичный тензор размера 5x6\n",
    "tensor_3 = torch.ones(5, 6)\n",
    "tensor_3"
   ]
  },
  {
   "cell_type": "code",
   "execution_count": 83,
   "metadata": {},
   "outputs": [
    {
     "data": {
      "text/plain": [
       "array([[1., 1., 1., 1., 1., 1.],\n",
       "       [1., 1., 1., 1., 1., 1.],\n",
       "       [1., 1., 1., 1., 1., 1.],\n",
       "       [1., 1., 1., 1., 1., 1.],\n",
       "       [1., 1., 1., 1., 1., 1.]], dtype=float32)"
      ]
     },
     "execution_count": 83,
     "metadata": {},
     "output_type": "execute_result"
    }
   ],
   "source": [
    "# Переведите его в формат numpy\n",
    "tensor_3.numpy()"
   ]
  },
  {
   "cell_type": "code",
   "execution_count": 205,
   "metadata": {},
   "outputs": [],
   "source": [
    "# Давайте теперь пооптимизируем: возьмите функцию y = x**w1 - 2 * x**2 + 5\n",
    "# Посчитайте \n",
    "from torch import nn \n",
    "from torch import optim"
   ]
  },
  {
   "cell_type": "code",
   "execution_count": 264,
   "metadata": {},
   "outputs": [
    {
     "name": "stdout",
     "output_type": "stream",
     "text": [
      "w:  Parameter containing:\n",
      "tensor([[ 0.1132,  0.2085],\n",
      "        [ 0.3391, -0.0188]], requires_grad=True)\n",
      "b:  Parameter containing:\n",
      "tensor([-0.0369, -0.2505], requires_grad=True)\n"
     ]
    }
   ],
   "source": [
    "linear = nn.Linear(2, 2)\n",
    "print ('w: ', linear.weight)\n",
    "print ('b: ', linear.bias)"
   ]
  },
  {
   "cell_type": "code",
   "execution_count": 265,
   "metadata": {},
   "outputs": [],
   "source": [
    "criterion = nn.MSELoss()\n",
    "optimizer = torch.optim.SGD(linear.parameters(), lr=0.001)"
   ]
  },
  {
   "cell_type": "code",
   "execution_count": 266,
   "metadata": {},
   "outputs": [
    {
     "data": {
      "text/plain": [
       "tensor([0.7586, 0.3318], requires_grad=True)"
      ]
     },
     "execution_count": 266,
     "metadata": {},
     "output_type": "execute_result"
    }
   ],
   "source": [
    "x = Variable(torch.rand(2), requires_grad = True)\n",
    "x"
   ]
  },
  {
   "cell_type": "code",
   "execution_count": 267,
   "metadata": {},
   "outputs": [
    {
     "data": {
      "text/plain": [
       "tensor([4.7595, 5.8008])"
      ]
     },
     "execution_count": 267,
     "metadata": {},
     "output_type": "execute_result"
    }
   ],
   "source": [
    "y = Variable(x**linear.weight[1] - 2 * x**2 + 5, requires_grad = False)\n",
    "y"
   ]
  },
  {
   "cell_type": "code",
   "execution_count": 268,
   "metadata": {},
   "outputs": [
    {
     "name": "stdout",
     "output_type": "stream",
     "text": [
      "loss:  27.592998504638672\n"
     ]
    }
   ],
   "source": [
    "optimizer.zero_grad()\n",
    "pred = linear(x)\n",
    "loss = criterion(pred, y)\n",
    "print('loss: ', loss.item())"
   ]
  },
  {
   "cell_type": "code",
   "execution_count": 269,
   "metadata": {},
   "outputs": [],
   "source": [
    "loss.backward()"
   ]
  },
  {
   "cell_type": "code",
   "execution_count": 270,
   "metadata": {},
   "outputs": [
    {
     "name": "stdout",
     "output_type": "stream",
     "text": [
      "dL/dw:  tensor([[-3.5212, -1.5400],\n",
      "        [-4.4003, -1.9245]])\n",
      "dL/db:  tensor([-4.6414, -5.8003])\n"
     ]
    }
   ],
   "source": [
    "print ('dL/dw: ', linear.weight.grad) \n",
    "print ('dL/db: ', linear.bias.grad)"
   ]
  },
  {
   "cell_type": "code",
   "execution_count": 271,
   "metadata": {},
   "outputs": [],
   "source": [
    "optimizer.step()"
   ]
  },
  {
   "cell_type": "code",
   "execution_count": 272,
   "metadata": {},
   "outputs": [
    {
     "name": "stdout",
     "output_type": "stream",
     "text": [
      "w:  Parameter containing:\n",
      "tensor([[ 0.1167,  0.2100],\n",
      "        [ 0.3435, -0.0169]], requires_grad=True)\n",
      "b:  Parameter containing:\n",
      "tensor([-0.0323, -0.2447], requires_grad=True)\n"
     ]
    }
   ],
   "source": [
    "print ('w: ', linear.weight)\n",
    "print ('b: ', linear.bias)"
   ]
  },
  {
   "cell_type": "code",
   "execution_count": 273,
   "metadata": {},
   "outputs": [
    {
     "name": "stdout",
     "output_type": "stream",
     "text": [
      "loss:  27.500049591064453\n"
     ]
    }
   ],
   "source": [
    "optimizer.zero_grad()\n",
    "pred = linear(x)\n",
    "loss = criterion(pred, y)\n",
    "print('loss: ', loss.item())"
   ]
  },
  {
   "cell_type": "code",
   "execution_count": 274,
   "metadata": {},
   "outputs": [
    {
     "name": "stdout",
     "output_type": "stream",
     "text": [
      "loss:  27.40742301940918\n",
      "loss:  27.315101623535156\n",
      "loss:  27.223094940185547\n",
      "loss:  27.13139533996582\n",
      "loss:  27.04000473022461\n",
      "loss:  26.948925018310547\n",
      "loss:  26.858150482177734\n",
      "loss:  26.76767921447754\n",
      "loss:  26.677513122558594\n",
      "loss:  26.5876522064209\n",
      "loss:  26.498096466064453\n",
      "loss:  26.40884017944336\n",
      "loss:  26.319883346557617\n",
      "loss:  26.23122787475586\n",
      "loss:  26.14286994934082\n",
      "loss:  26.0548095703125\n",
      "loss:  25.96704864501953\n",
      "loss:  25.879579544067383\n",
      "loss:  25.79240608215332\n",
      "loss:  25.705528259277344\n"
     ]
    }
   ],
   "source": [
    "for i in range(20):\n",
    "    loss.backward()\n",
    "    optimizer.step()\n",
    "    optimizer.zero_grad()\n",
    "    pred = linear(x)\n",
    "    loss = criterion(pred, y)\n",
    "    print('loss: ', loss.item())"
   ]
  }
 ],
 "metadata": {
  "hide_input": false,
  "kernelspec": {
   "display_name": "Python 3",
   "language": "python",
   "name": "python3"
  },
  "language_info": {
   "codemirror_mode": {
    "name": "ipython",
    "version": 3
   },
   "file_extension": ".py",
   "mimetype": "text/x-python",
   "name": "python",
   "nbconvert_exporter": "python",
   "pygments_lexer": "ipython3",
   "version": "3.8.5"
  }
 },
 "nbformat": 4,
 "nbformat_minor": 2
}
